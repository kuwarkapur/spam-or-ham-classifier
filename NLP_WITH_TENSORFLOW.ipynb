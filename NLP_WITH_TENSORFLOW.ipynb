{
  "nbformat": 4,
  "nbformat_minor": 0,
  "metadata": {
    "colab": {
      "name": "NLP WITH TENSORFLOW.ipynb",
      "provenance": [],
      "collapsed_sections": []
    },
    "kernelspec": {
      "name": "python3",
      "display_name": "Python 3"
    },
    "language_info": {
      "name": "python"
    },
    "accelerator": "GPU"
  },
  "cells": [
    {
      "cell_type": "markdown",
      "metadata": {
        "id": "5VpjyKnorXcp"
      },
      "source": [
        "## **Importing the Data**"
      ]
    },
    {
      "cell_type": "code",
      "metadata": {
        "id": "iLmkHeYancKO",
        "colab": {
          "base_uri": "https://localhost:8080/",
          "height": 203
        },
        "outputId": "e4d05655-019c-437c-bdc5-7281d80b35e6"
      },
      "source": [
        "import pandas as pd\n",
        "df=pd.read_csv('/content/spam.csv',encoding='latin1')\n",
        "df.head()"
      ],
      "execution_count": null,
      "outputs": [
        {
          "output_type": "execute_result",
          "data": {
            "text/html": [
              "<div>\n",
              "<style scoped>\n",
              "    .dataframe tbody tr th:only-of-type {\n",
              "        vertical-align: middle;\n",
              "    }\n",
              "\n",
              "    .dataframe tbody tr th {\n",
              "        vertical-align: top;\n",
              "    }\n",
              "\n",
              "    .dataframe thead th {\n",
              "        text-align: right;\n",
              "    }\n",
              "</style>\n",
              "<table border=\"1\" class=\"dataframe\">\n",
              "  <thead>\n",
              "    <tr style=\"text-align: right;\">\n",
              "      <th></th>\n",
              "      <th>v1</th>\n",
              "      <th>v2</th>\n",
              "      <th>Unnamed: 2</th>\n",
              "      <th>Unnamed: 3</th>\n",
              "      <th>Unnamed: 4</th>\n",
              "    </tr>\n",
              "  </thead>\n",
              "  <tbody>\n",
              "    <tr>\n",
              "      <th>0</th>\n",
              "      <td>ham</td>\n",
              "      <td>Go until jurong point, crazy.. Available only ...</td>\n",
              "      <td>NaN</td>\n",
              "      <td>NaN</td>\n",
              "      <td>NaN</td>\n",
              "    </tr>\n",
              "    <tr>\n",
              "      <th>1</th>\n",
              "      <td>ham</td>\n",
              "      <td>Ok lar... Joking wif u oni...</td>\n",
              "      <td>NaN</td>\n",
              "      <td>NaN</td>\n",
              "      <td>NaN</td>\n",
              "    </tr>\n",
              "    <tr>\n",
              "      <th>2</th>\n",
              "      <td>spam</td>\n",
              "      <td>Free entry in 2 a wkly comp to win FA Cup fina...</td>\n",
              "      <td>NaN</td>\n",
              "      <td>NaN</td>\n",
              "      <td>NaN</td>\n",
              "    </tr>\n",
              "    <tr>\n",
              "      <th>3</th>\n",
              "      <td>ham</td>\n",
              "      <td>U dun say so early hor... U c already then say...</td>\n",
              "      <td>NaN</td>\n",
              "      <td>NaN</td>\n",
              "      <td>NaN</td>\n",
              "    </tr>\n",
              "    <tr>\n",
              "      <th>4</th>\n",
              "      <td>ham</td>\n",
              "      <td>Nah I don't think he goes to usf, he lives aro...</td>\n",
              "      <td>NaN</td>\n",
              "      <td>NaN</td>\n",
              "      <td>NaN</td>\n",
              "    </tr>\n",
              "  </tbody>\n",
              "</table>\n",
              "</div>"
            ],
            "text/plain": [
              "     v1  ... Unnamed: 4\n",
              "0   ham  ...        NaN\n",
              "1   ham  ...        NaN\n",
              "2  spam  ...        NaN\n",
              "3   ham  ...        NaN\n",
              "4   ham  ...        NaN\n",
              "\n",
              "[5 rows x 5 columns]"
            ]
          },
          "metadata": {},
          "execution_count": 5
        }
      ]
    },
    {
      "cell_type": "markdown",
      "metadata": {
        "id": "2ZHkvUJ8rlUL"
      },
      "source": [
        "### **PrEporcessing THe Data**"
      ]
    },
    {
      "cell_type": "code",
      "metadata": {
        "id": "nHh2p4nyxG8o"
      },
      "source": [
        "model=df[['v1','v2']]"
      ],
      "execution_count": null,
      "outputs": []
    },
    {
      "cell_type": "code",
      "metadata": {
        "colab": {
          "base_uri": "https://localhost:8080/"
        },
        "id": "elZNwU5rxXrV",
        "outputId": "82a1cd54-6027-4256-cf13-adc3ccba8cd7"
      },
      "source": [
        "model.rename(columns={'v1':'classification','v2':'message'},inplace=True)"
      ],
      "execution_count": null,
      "outputs": [
        {
          "output_type": "stream",
          "name": "stderr",
          "text": [
            "/usr/local/lib/python3.7/dist-packages/pandas/core/frame.py:4308: SettingWithCopyWarning: \n",
            "A value is trying to be set on a copy of a slice from a DataFrame\n",
            "\n",
            "See the caveats in the documentation: https://pandas.pydata.org/pandas-docs/stable/user_guide/indexing.html#returning-a-view-versus-a-copy\n",
            "  errors=errors,\n"
          ]
        }
      ]
    },
    {
      "cell_type": "code",
      "metadata": {
        "colab": {
          "base_uri": "https://localhost:8080/",
          "height": 203
        },
        "id": "Y7ZGBfsxxfxm",
        "outputId": "62983e2d-b99b-4129-ac7f-92d84149b592"
      },
      "source": [
        "model.head()"
      ],
      "execution_count": null,
      "outputs": [
        {
          "output_type": "execute_result",
          "data": {
            "text/html": [
              "<div>\n",
              "<style scoped>\n",
              "    .dataframe tbody tr th:only-of-type {\n",
              "        vertical-align: middle;\n",
              "    }\n",
              "\n",
              "    .dataframe tbody tr th {\n",
              "        vertical-align: top;\n",
              "    }\n",
              "\n",
              "    .dataframe thead th {\n",
              "        text-align: right;\n",
              "    }\n",
              "</style>\n",
              "<table border=\"1\" class=\"dataframe\">\n",
              "  <thead>\n",
              "    <tr style=\"text-align: right;\">\n",
              "      <th></th>\n",
              "      <th>classification</th>\n",
              "      <th>message</th>\n",
              "    </tr>\n",
              "  </thead>\n",
              "  <tbody>\n",
              "    <tr>\n",
              "      <th>0</th>\n",
              "      <td>ham</td>\n",
              "      <td>Go until jurong point, crazy.. Available only ...</td>\n",
              "    </tr>\n",
              "    <tr>\n",
              "      <th>1</th>\n",
              "      <td>ham</td>\n",
              "      <td>Ok lar... Joking wif u oni...</td>\n",
              "    </tr>\n",
              "    <tr>\n",
              "      <th>2</th>\n",
              "      <td>spam</td>\n",
              "      <td>Free entry in 2 a wkly comp to win FA Cup fina...</td>\n",
              "    </tr>\n",
              "    <tr>\n",
              "      <th>3</th>\n",
              "      <td>ham</td>\n",
              "      <td>U dun say so early hor... U c already then say...</td>\n",
              "    </tr>\n",
              "    <tr>\n",
              "      <th>4</th>\n",
              "      <td>ham</td>\n",
              "      <td>Nah I don't think he goes to usf, he lives aro...</td>\n",
              "    </tr>\n",
              "  </tbody>\n",
              "</table>\n",
              "</div>"
            ],
            "text/plain": [
              "  classification                                            message\n",
              "0            ham  Go until jurong point, crazy.. Available only ...\n",
              "1            ham                      Ok lar... Joking wif u oni...\n",
              "2           spam  Free entry in 2 a wkly comp to win FA Cup fina...\n",
              "3            ham  U dun say so early hor... U c already then say...\n",
              "4            ham  Nah I don't think he goes to usf, he lives aro..."
            ]
          },
          "metadata": {},
          "execution_count": 10
        }
      ]
    },
    {
      "cell_type": "code",
      "metadata": {
        "colab": {
          "base_uri": "https://localhost:8080/"
        },
        "id": "VWBdVo5rxiCS",
        "outputId": "69737c41-f393-4600-ddbf-300d19e0a3ea"
      },
      "source": [
        "from sklearn.preprocessing import LabelEncoder\n",
        "lr =LabelEncoder()\n",
        "model.classification=lr.fit_transform(model['classification'])"
      ],
      "execution_count": null,
      "outputs": [
        {
          "output_type": "stream",
          "name": "stderr",
          "text": [
            "/usr/local/lib/python3.7/dist-packages/pandas/core/generic.py:5170: SettingWithCopyWarning: \n",
            "A value is trying to be set on a copy of a slice from a DataFrame.\n",
            "Try using .loc[row_indexer,col_indexer] = value instead\n",
            "\n",
            "See the caveats in the documentation: https://pandas.pydata.org/pandas-docs/stable/user_guide/indexing.html#returning-a-view-versus-a-copy\n",
            "  self[name] = value\n"
          ]
        }
      ]
    },
    {
      "cell_type": "code",
      "metadata": {
        "colab": {
          "base_uri": "https://localhost:8080/",
          "height": 203
        },
        "id": "DExeaDpQx0wW",
        "outputId": "350e3197-61d1-4cd2-cc0c-da617f9dca59"
      },
      "source": [
        "model.head()"
      ],
      "execution_count": null,
      "outputs": [
        {
          "output_type": "execute_result",
          "data": {
            "text/html": [
              "<div>\n",
              "<style scoped>\n",
              "    .dataframe tbody tr th:only-of-type {\n",
              "        vertical-align: middle;\n",
              "    }\n",
              "\n",
              "    .dataframe tbody tr th {\n",
              "        vertical-align: top;\n",
              "    }\n",
              "\n",
              "    .dataframe thead th {\n",
              "        text-align: right;\n",
              "    }\n",
              "</style>\n",
              "<table border=\"1\" class=\"dataframe\">\n",
              "  <thead>\n",
              "    <tr style=\"text-align: right;\">\n",
              "      <th></th>\n",
              "      <th>classification</th>\n",
              "      <th>message</th>\n",
              "    </tr>\n",
              "  </thead>\n",
              "  <tbody>\n",
              "    <tr>\n",
              "      <th>0</th>\n",
              "      <td>0</td>\n",
              "      <td>Go until jurong point, crazy.. Available only ...</td>\n",
              "    </tr>\n",
              "    <tr>\n",
              "      <th>1</th>\n",
              "      <td>0</td>\n",
              "      <td>Ok lar... Joking wif u oni...</td>\n",
              "    </tr>\n",
              "    <tr>\n",
              "      <th>2</th>\n",
              "      <td>1</td>\n",
              "      <td>Free entry in 2 a wkly comp to win FA Cup fina...</td>\n",
              "    </tr>\n",
              "    <tr>\n",
              "      <th>3</th>\n",
              "      <td>0</td>\n",
              "      <td>U dun say so early hor... U c already then say...</td>\n",
              "    </tr>\n",
              "    <tr>\n",
              "      <th>4</th>\n",
              "      <td>0</td>\n",
              "      <td>Nah I don't think he goes to usf, he lives aro...</td>\n",
              "    </tr>\n",
              "  </tbody>\n",
              "</table>\n",
              "</div>"
            ],
            "text/plain": [
              "   classification                                            message\n",
              "0               0  Go until jurong point, crazy.. Available only ...\n",
              "1               0                      Ok lar... Joking wif u oni...\n",
              "2               1  Free entry in 2 a wkly comp to win FA Cup fina...\n",
              "3               0  U dun say so early hor... U c already then say...\n",
              "4               0  Nah I don't think he goes to usf, he lives aro..."
            ]
          },
          "metadata": {},
          "execution_count": 12
        }
      ]
    },
    {
      "cell_type": "code",
      "metadata": {
        "id": "drayD50qx5Ph"
      },
      "source": [
        "validation=model.sample(frac=1,random_state=42)"
      ],
      "execution_count": null,
      "outputs": []
    },
    {
      "cell_type": "code",
      "metadata": {
        "colab": {
          "base_uri": "https://localhost:8080/"
        },
        "id": "sllUNtSlySs9",
        "outputId": "5a288c1b-90b7-4fea-a426-9564a666bc37"
      },
      "source": [
        "round(sum([len(i.split()) for i in train_s]))/len(train_s)"
      ],
      "execution_count": null,
      "outputs": [
        {
          "output_type": "execute_result",
          "data": {
            "text/plain": [
              "15.544087951536909"
            ]
          },
          "metadata": {},
          "execution_count": 37
        }
      ]
    },
    {
      "cell_type": "code",
      "metadata": {
        "id": "9LSj2k6GyWRO"
      },
      "source": [
        "from sklearn.model_selection import train_test_split\n",
        "train_s,val_s,train_l,val_l=train_test_split(validation['message'].to_numpy(),\n",
        "                                             validation['classification'].to_numpy(),\n",
        "                                             test_size=0.2,\n",
        "                                             random_state=42)"
      ],
      "execution_count": null,
      "outputs": []
    },
    {
      "cell_type": "markdown",
      "metadata": {
        "id": "zbanYz_2ry_i"
      },
      "source": [
        "##creating an embedding layers and vectorisation layer"
      ]
    },
    {
      "cell_type": "code",
      "metadata": {
        "id": "YyKOybRXzu9l"
      },
      "source": [
        "from tensorflow.keras.layers.experimental.preprocessing import TextVectorization\n",
        "text=TextVectorization(max_tokens=10000, standardize='lower_and_strip_punctuation', \n",
        "                  split='whitespace',  output_mode='int',\n",
        "                 output_sequence_length=16 )"
      ],
      "execution_count": null,
      "outputs": []
    },
    {
      "cell_type": "code",
      "metadata": {
        "id": "vdO37IIf0m6C"
      },
      "source": [
        "text.adapt(train_s)"
      ],
      "execution_count": null,
      "outputs": []
    },
    {
      "cell_type": "code",
      "metadata": {
        "colab": {
          "base_uri": "https://localhost:8080/"
        },
        "id": "t6qxGHPK04xi",
        "outputId": "c5cfccb2-f819-4006-eeef-5c8f4516bce5"
      },
      "source": [
        "text(['U dun say so early hor'])"
      ],
      "execution_count": null,
      "outputs": [
        {
          "output_type": "execute_result",
          "data": {
            "text/plain": [
              "<tf.Tensor: shape=(1, 16), dtype=int64, numpy=\n",
              "array([[   7,  231,  143,   25,  357, 3162,    0,    0,    0,    0,    0,\n",
              "           0,    0,    0,    0,    0]])>"
            ]
          },
          "metadata": {},
          "execution_count": 40
        }
      ]
    },
    {
      "cell_type": "code",
      "metadata": {
        "id": "cdYmWJ222Jwc"
      },
      "source": [
        "from tensorflow.keras import layers\n",
        "embedding=layers.Embedding(input_dim=10000, output_dim=128, input_length=15)"
      ],
      "execution_count": null,
      "outputs": []
    },
    {
      "cell_type": "code",
      "metadata": {
        "colab": {
          "base_uri": "https://localhost:8080/"
        },
        "id": "n4XPq3Xe3CSq",
        "outputId": "93645bfe-1bad-4d1e-9cf4-8517dc33280f"
      },
      "source": [
        "embedding(text(['U dun say so early hor']))"
      ],
      "execution_count": null,
      "outputs": [
        {
          "output_type": "execute_result",
          "data": {
            "text/plain": [
              "<tf.Tensor: shape=(1, 16, 128), dtype=float32, numpy=\n",
              "array([[[ 0.01461962, -0.04034798,  0.00816289, ...,  0.0495217 ,\n",
              "          0.01984784,  0.01650982],\n",
              "        [-0.03301577,  0.01200842,  0.02763175, ..., -0.01119313,\n",
              "          0.00454601, -0.00124257],\n",
              "        [-0.00825678,  0.01423505,  0.03996028, ..., -0.00251818,\n",
              "          0.03166192,  0.01081327],\n",
              "        ...,\n",
              "        [ 0.04471819,  0.03558356, -0.01816682, ...,  0.04342682,\n",
              "         -0.00059314, -0.01581129],\n",
              "        [ 0.04471819,  0.03558356, -0.01816682, ...,  0.04342682,\n",
              "         -0.00059314, -0.01581129],\n",
              "        [ 0.04471819,  0.03558356, -0.01816682, ...,  0.04342682,\n",
              "         -0.00059314, -0.01581129]]], dtype=float32)>"
            ]
          },
          "metadata": {},
          "execution_count": 43
        }
      ]
    },
    {
      "cell_type": "markdown",
      "metadata": {
        "id": "LW2V5ZV6r_Xv"
      },
      "source": [
        "## a simple model with embedding and vectosisation indduced with global average pooling"
      ]
    },
    {
      "cell_type": "code",
      "metadata": {
        "id": "_b2wqKJu3Hv7"
      },
      "source": [
        "import tensorflow as tf\n",
        "\n",
        "inputs=layers.Input(shape=(1,),dtype='string')\n",
        "x=text(inputs)\n",
        "x=embedding(x)\n",
        "x=layers.GlobalAveragePooling1D()(x)\n",
        "output=layers.Dense(1,activation='sigmoid')(x)\n",
        "\n",
        "model=tf.keras.Model(inputs,output)"
      ],
      "execution_count": null,
      "outputs": []
    },
    {
      "cell_type": "code",
      "metadata": {
        "colab": {
          "base_uri": "https://localhost:8080/"
        },
        "id": "u3aREaQD5Lpr",
        "outputId": "ffd1a920-746c-4ec7-bee1-4174f84d1ec7"
      },
      "source": [
        "model.compile(\n",
        "    loss=tf.keras.losses.BinaryCrossentropy(),\n",
        "    optimizer=tf.keras.optimizers.Adam(),\n",
        "    metrics=['accuracy']\n",
        ")\n",
        "\n",
        "model.fit(train_s,\n",
        "          train_l,\n",
        "          epochs=5,\n",
        "          validation_data=(val_s,val_l))"
      ],
      "execution_count": null,
      "outputs": [
        {
          "output_type": "stream",
          "name": "stdout",
          "text": [
            "Epoch 1/5\n",
            "140/140 [==============================] - 4s 8ms/step - loss: 0.4168 - accuracy: 0.8851 - val_loss: 0.2399 - val_accuracy: 0.8960\n",
            "Epoch 2/5\n",
            "140/140 [==============================] - 1s 6ms/step - loss: 0.1576 - accuracy: 0.9502 - val_loss: 0.1442 - val_accuracy: 0.9507\n",
            "Epoch 3/5\n",
            "140/140 [==============================] - 1s 6ms/step - loss: 0.0951 - accuracy: 0.9744 - val_loss: 0.1099 - val_accuracy: 0.9668\n",
            "Epoch 4/5\n",
            "140/140 [==============================] - 1s 7ms/step - loss: 0.0681 - accuracy: 0.9838 - val_loss: 0.0935 - val_accuracy: 0.9686\n",
            "Epoch 5/5\n",
            "140/140 [==============================] - 1s 7ms/step - loss: 0.0518 - accuracy: 0.9874 - val_loss: 0.0833 - val_accuracy: 0.9704\n"
          ]
        },
        {
          "output_type": "execute_result",
          "data": {
            "text/plain": [
              "<keras.callbacks.History at 0x7f3e0e15af50>"
            ]
          },
          "metadata": {},
          "execution_count": 56
        }
      ]
    },
    {
      "cell_type": "code",
      "metadata": {
        "colab": {
          "base_uri": "https://localhost:8080/"
        },
        "id": "7zYqNXlg6U3o",
        "outputId": "767bc42a-023d-4e8f-da0c-87b63a001a08"
      },
      "source": [
        "model.summary()"
      ],
      "execution_count": null,
      "outputs": [
        {
          "output_type": "stream",
          "name": "stdout",
          "text": [
            "Model: \"model_2\"\n",
            "_________________________________________________________________\n",
            "Layer (type)                 Output Shape              Param #   \n",
            "=================================================================\n",
            "input_8 (InputLayer)         [(None, 1)]               0         \n",
            "_________________________________________________________________\n",
            "text_vectorization_1 (TextVe (None, 16)                0         \n",
            "_________________________________________________________________\n",
            "embedding (Embedding)        (None, 16, 128)           1280000   \n",
            "_________________________________________________________________\n",
            "global_average_pooling1d_7 ( (None, 128)               0         \n",
            "_________________________________________________________________\n",
            "dense_7 (Dense)              (None, 1)                 129       \n",
            "=================================================================\n",
            "Total params: 1,280,129\n",
            "Trainable params: 1,280,129\n",
            "Non-trainable params: 0\n",
            "_________________________________________________________________\n"
          ]
        }
      ]
    },
    {
      "cell_type": "markdown",
      "metadata": {
        "id": "UFW3NMcSsOWs"
      },
      "source": [
        "## **a simple LSTM stacked model**"
      ]
    },
    {
      "cell_type": "code",
      "metadata": {
        "colab": {
          "base_uri": "https://localhost:8080/"
        },
        "id": "3vvMI6vS6DEP",
        "outputId": "69ff4164-39a5-4f68-9b01-4352d09bb2be"
      },
      "source": [
        "inputs=layers.Input(shape=(1,),dtype='string')\n",
        "x=text(inputs)\n",
        "x=embedding(x)\n",
        "x=layers.LSTM(64,return_sequences=True)(x)\n",
        "x=layers.LSTM(32)(x)\n",
        "x=layers.Dense(32,activation='relu')(x)\n",
        "output=layers.Dense(1,activation='sigmoid')(x)\n",
        "\n",
        "model_1=tf.keras.Model(inputs,output)\n",
        "model_1.summary()"
      ],
      "execution_count": null,
      "outputs": [
        {
          "output_type": "stream",
          "name": "stdout",
          "text": [
            "Model: \"model_4\"\n",
            "_________________________________________________________________\n",
            "Layer (type)                 Output Shape              Param #   \n",
            "=================================================================\n",
            "input_11 (InputLayer)        [(None, 1)]               0         \n",
            "_________________________________________________________________\n",
            "text_vectorization_1 (TextVe (None, 16)                0         \n",
            "_________________________________________________________________\n",
            "embedding (Embedding)        (None, 16, 128)           1280000   \n",
            "_________________________________________________________________\n",
            "lstm_1 (LSTM)                (None, 16, 64)            49408     \n",
            "_________________________________________________________________\n",
            "lstm_2 (LSTM)                (None, 32)                12416     \n",
            "_________________________________________________________________\n",
            "dense_9 (Dense)              (None, 32)                1056      \n",
            "_________________________________________________________________\n",
            "dense_10 (Dense)             (None, 1)                 33        \n",
            "=================================================================\n",
            "Total params: 1,342,913\n",
            "Trainable params: 1,342,913\n",
            "Non-trainable params: 0\n",
            "_________________________________________________________________\n"
          ]
        }
      ]
    },
    {
      "cell_type": "code",
      "metadata": {
        "colab": {
          "base_uri": "https://localhost:8080/"
        },
        "id": "idyuAEVl6xa-",
        "outputId": "ef8b11d7-94ed-43a2-8be9-82fd3c06f408"
      },
      "source": [
        "model_1.compile(\n",
        "    loss=tf.keras.losses.BinaryCrossentropy(),\n",
        "    optimizer=tf.keras.optimizers.Adam(),\n",
        "    metrics=['accuracy']\n",
        ")\n",
        "\n",
        "model_1.fit(train_s,\n",
        "          train_l,\n",
        "          epochs=5,\n",
        "          validation_data=(val_s,val_l))"
      ],
      "execution_count": null,
      "outputs": [
        {
          "output_type": "stream",
          "name": "stdout",
          "text": [
            "Epoch 1/5\n",
            "140/140 [==============================] - 7s 23ms/step - loss: 0.0669 - accuracy: 0.9904 - val_loss: 0.0895 - val_accuracy: 0.9731\n",
            "Epoch 2/5\n",
            "140/140 [==============================] - 2s 15ms/step - loss: 0.0112 - accuracy: 0.9980 - val_loss: 0.0884 - val_accuracy: 0.9776\n",
            "Epoch 3/5\n",
            "140/140 [==============================] - 2s 16ms/step - loss: 0.0038 - accuracy: 0.9989 - val_loss: 0.1017 - val_accuracy: 0.9749\n",
            "Epoch 4/5\n",
            "140/140 [==============================] - 2s 15ms/step - loss: 0.0010 - accuracy: 0.9996 - val_loss: 0.1606 - val_accuracy: 0.9731\n",
            "Epoch 5/5\n",
            "140/140 [==============================] - 2s 15ms/step - loss: 6.4187e-04 - accuracy: 1.0000 - val_loss: 0.1399 - val_accuracy: 0.9740\n"
          ]
        },
        {
          "output_type": "execute_result",
          "data": {
            "text/plain": [
              "<keras.callbacks.History at 0x7f3e0e367590>"
            ]
          },
          "metadata": {},
          "execution_count": 62
        }
      ]
    }
  ]
}